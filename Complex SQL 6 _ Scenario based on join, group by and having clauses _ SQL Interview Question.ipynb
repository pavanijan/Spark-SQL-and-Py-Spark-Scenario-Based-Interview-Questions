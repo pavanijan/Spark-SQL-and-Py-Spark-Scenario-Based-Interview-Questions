{
 "cells": [
  {
   "cell_type": "markdown",
   "metadata": {
    "application/vnd.databricks.v1+cell": {
     "cellMetadata": {},
     "inputWidgets": {},
     "nuid": "f5afb691-d1c7-49f0-a10a-25377e20afbf",
     "showTitle": false,
     "title": ""
    }
   },
   "source": [
    "Problem Statement\n",
    "\n",
    "Write a query to find PersonID, Name, number of friend, sum of marks of person who have friend with total score greater than 100."
   ]
  },
  {
   "cell_type": "code",
   "execution_count": 0,
   "metadata": {
    "application/vnd.databricks.v1+cell": {
     "cellMetadata": {},
     "inputWidgets": {},
     "nuid": "d1a4550b-e7fe-44a6-b167-5c75b0bd3f72",
     "showTitle": false,
     "title": ""
    }
   },
   "outputs": [],
   "source": [
    "from pyspark.sql import SparkSession\n",
    "\n",
    "# Initialize Spark session\n",
    "spark = SparkSession.builder.appName(\"SQL to PySpark\").getOrCreate()\n",
    "\n",
    "\n",
    "# Define schema for friend table\n",
    "friend_schema = StructType([\n",
    "    StructField(\"pid\", IntegerType(), True),\n",
    "    StructField(\"fid\", IntegerType(), True)\n",
    "])\n",
    "\n",
    "# Define schema for person table\n",
    "person_schema = StructType([\n",
    "    StructField(\"PersonID\", IntegerType(), True),\n",
    "    StructField(\"Name\", StringType(), True),\n",
    "    StructField(\"Score\", IntegerType(), True)\n",
    "])\n",
    "\n",
    "# Create friend DataFrame\n",
    "friend_data = [\n",
    "    (1, 2),\n",
    "    (1, 3),\n",
    "    (2, 1),\n",
    "    (2, 3),\n",
    "    (3, 5),\n",
    "    (4, 2),\n",
    "    (4, 3),\n",
    "    (4, 5)\n",
    "]\n",
    "friend_df = spark.createDataFrame(data=friend_data, schema=friend_schema)\n",
    "\n",
    "# Create person DataFrame\n",
    "person_data = [\n",
    "    (1, \"Alice\", 88),\n",
    "    (2, \"Bob\", 11),\n",
    "    (3, \"Devis\", 27),\n",
    "    (4, \"Tara\", 45),\n",
    "    (5, \"John\", 63)\n",
    "]\n",
    "person_df = spark.createDataFrame(data=person_data, schema=person_schema)\n"
   ]
  },
  {
   "cell_type": "code",
   "execution_count": 0,
   "metadata": {
    "application/vnd.databricks.v1+cell": {
     "cellMetadata": {
      "byteLimit": 2048000,
      "rowLimit": 10000
     },
     "inputWidgets": {},
     "nuid": "88a5efa7-50e5-485e-833a-f394ffd9b0f0",
     "showTitle": false,
     "title": ""
    }
   },
   "outputs": [],
   "source": [
    "person_df = (spark.read\n",
    "  .format(\"csv\")\n",
    "  .option(\"header\", \"true\")\n",
    "  .option(\"mode\", \"PERMISSIVE\")\n",
    "  .load(\"/FileStore/person.csv\")\n",
    ")\n",
    "friend_df = (spark.read\n",
    "  .format(\"csv\")\n",
    "  .option(\"header\", \"true\")\n",
    "  .option(\"mode\", \"PERMISSIVE\")\n",
    "  .load(\"/FileStore/friend.csv\")\n",
    ")"
   ]
  },
  {
   "cell_type": "code",
   "execution_count": 0,
   "metadata": {
    "application/vnd.databricks.v1+cell": {
     "cellMetadata": {
      "byteLimit": 2048000,
      "rowLimit": 10000
     },
     "inputWidgets": {},
     "nuid": "a0157110-ae96-4ebd-b48f-ecf0159dc449",
     "showTitle": false,
     "title": ""
    }
   },
   "outputs": [
    {
     "output_type": "display_data",
     "data": {
      "text/html": [
       "<style scoped>\n",
       "  .table-result-container {\n",
       "    max-height: 300px;\n",
       "    overflow: auto;\n",
       "  }\n",
       "  table, th, td {\n",
       "    border: 1px solid black;\n",
       "    border-collapse: collapse;\n",
       "  }\n",
       "  th, td {\n",
       "    padding: 5px;\n",
       "  }\n",
       "  th {\n",
       "    text-align: left;\n",
       "  }\n",
       "</style><div class='table-result-container'><table class='table-result'><thead style='background-color: white'><tr><th>PersonID</th><th>FriendID</th></tr></thead><tbody><tr><td>1</td><td>2</td></tr><tr><td>1</td><td>3</td></tr><tr><td>2</td><td>1</td></tr><tr><td>2</td><td>3</td></tr><tr><td>3</td><td>5</td></tr><tr><td>4</td><td>2</td></tr><tr><td>4</td><td>3</td></tr><tr><td>4</td><td>5</td></tr></tbody></table></div>"
      ]
     },
     "metadata": {
      "application/vnd.databricks.v1+output": {
       "addedWidgets": {},
       "aggData": [],
       "aggError": "",
       "aggOverflow": false,
       "aggSchema": [],
       "aggSeriesLimitReached": false,
       "aggType": "",
       "arguments": {},
       "columnCustomDisplayInfos": {},
       "data": [
        [
         "1",
         "2"
        ],
        [
         "1",
         "3"
        ],
        [
         "2",
         "1"
        ],
        [
         "2",
         "3"
        ],
        [
         "3",
         "5"
        ],
        [
         "4",
         "2"
        ],
        [
         "4",
         "3"
        ],
        [
         "4",
         "5"
        ]
       ],
       "datasetInfos": [],
       "dbfsResultPath": null,
       "isJsonSchema": true,
       "metadata": {},
       "overflow": false,
       "plotOptions": {
        "customPlotOptions": {},
        "displayType": "table",
        "pivotAggregation": null,
        "pivotColumns": null,
        "xColumns": null,
        "yColumns": null
       },
       "removedWidgets": [],
       "schema": [
        {
         "metadata": "{}",
         "name": "PersonID",
         "type": "\"string\""
        },
        {
         "metadata": "{}",
         "name": "FriendID",
         "type": "\"string\""
        }
       ],
       "type": "table"
      }
     },
     "output_type": "display_data"
    },
    {
     "output_type": "display_data",
     "data": {
      "text/html": [
       "<style scoped>\n",
       "  .table-result-container {\n",
       "    max-height: 300px;\n",
       "    overflow: auto;\n",
       "  }\n",
       "  table, th, td {\n",
       "    border: 1px solid black;\n",
       "    border-collapse: collapse;\n",
       "  }\n",
       "  th, td {\n",
       "    padding: 5px;\n",
       "  }\n",
       "  th {\n",
       "    text-align: left;\n",
       "  }\n",
       "</style><div class='table-result-container'><table class='table-result'><thead style='background-color: white'><tr><th>PersonID</th><th>Name</th><th>Email</th><th>Score</th></tr></thead><tbody><tr><td>1</td><td>Alice</td><td>alice2018@hotmail.com</td><td>88</td></tr><tr><td>2</td><td>Bob</td><td>bob2018@hotmail.com</td><td>11</td></tr><tr><td>3</td><td>Davis</td><td>davis2018@hotmail.com</td><td>27</td></tr><tr><td>4</td><td>Tara</td><td>tara2018@hotmail.com</td><td>45</td></tr><tr><td>5</td><td>John</td><td>john2018@hotmail.com</td><td>63</td></tr></tbody></table></div>"
      ]
     },
     "metadata": {
      "application/vnd.databricks.v1+output": {
       "addedWidgets": {},
       "aggData": [],
       "aggError": "",
       "aggOverflow": false,
       "aggSchema": [],
       "aggSeriesLimitReached": false,
       "aggType": "",
       "arguments": {},
       "columnCustomDisplayInfos": {},
       "data": [
        [
         "1",
         "Alice",
         "alice2018@hotmail.com",
         "88"
        ],
        [
         "2",
         "Bob",
         "bob2018@hotmail.com",
         "11"
        ],
        [
         "3",
         "Davis",
         "davis2018@hotmail.com",
         "27"
        ],
        [
         "4",
         "Tara",
         "tara2018@hotmail.com",
         "45"
        ],
        [
         "5",
         "John",
         "john2018@hotmail.com",
         "63"
        ]
       ],
       "datasetInfos": [],
       "dbfsResultPath": null,
       "isJsonSchema": true,
       "metadata": {},
       "overflow": false,
       "plotOptions": {
        "customPlotOptions": {},
        "displayType": "table",
        "pivotAggregation": null,
        "pivotColumns": null,
        "xColumns": null,
        "yColumns": null
       },
       "removedWidgets": [],
       "schema": [
        {
         "metadata": "{}",
         "name": "PersonID",
         "type": "\"string\""
        },
        {
         "metadata": "{}",
         "name": "Name",
         "type": "\"string\""
        },
        {
         "metadata": "{}",
         "name": "Email",
         "type": "\"string\""
        },
        {
         "metadata": "{}",
         "name": "Score",
         "type": "\"string\""
        }
       ],
       "type": "table"
      }
     },
     "output_type": "display_data"
    }
   ],
   "source": [
    "friend_df.display()\n",
    "person_df.display()"
   ]
  },
  {
   "cell_type": "code",
   "execution_count": 0,
   "metadata": {
    "application/vnd.databricks.v1+cell": {
     "cellMetadata": {
      "byteLimit": 2048000,
      "rowLimit": 10000
     },
     "inputWidgets": {},
     "nuid": "5c49c479-30fc-4b29-9e48-9c70a51efd14",
     "showTitle": false,
     "title": ""
    }
   },
   "outputs": [
    {
     "output_type": "display_data",
     "data": {
      "text/html": [
       "<style scoped>\n",
       "  .table-result-container {\n",
       "    max-height: 300px;\n",
       "    overflow: auto;\n",
       "  }\n",
       "  table, th, td {\n",
       "    border: 1px solid black;\n",
       "    border-collapse: collapse;\n",
       "  }\n",
       "  th, td {\n",
       "    padding: 5px;\n",
       "  }\n",
       "  th {\n",
       "    text-align: left;\n",
       "  }\n",
       "</style><div class='table-result-container'><table class='table-result'><thead style='background-color: white'><tr><th>PersonID</th><th>Name</th><th>no_of_friends</th><th>fscores</th></tr></thead><tbody><tr><td>4</td><td>Tara</td><td>3</td><td>101.0</td></tr><tr><td>2</td><td>Bob</td><td>2</td><td>115.0</td></tr></tbody></table></div>"
      ]
     },
     "metadata": {
      "application/vnd.databricks.v1+output": {
       "addedWidgets": {},
       "aggData": [],
       "aggError": "",
       "aggOverflow": false,
       "aggSchema": [],
       "aggSeriesLimitReached": false,
       "aggType": "",
       "arguments": {},
       "columnCustomDisplayInfos": {},
       "data": [
        [
         "4",
         "Tara",
         3,
         101.0
        ],
        [
         "2",
         "Bob",
         2,
         115.0
        ]
       ],
       "datasetInfos": [],
       "dbfsResultPath": null,
       "isJsonSchema": true,
       "metadata": {},
       "overflow": false,
       "plotOptions": {
        "customPlotOptions": {},
        "displayType": "table",
        "pivotAggregation": null,
        "pivotColumns": null,
        "xColumns": null,
        "yColumns": null
       },
       "removedWidgets": [],
       "schema": [
        {
         "metadata": "{}",
         "name": "PersonID",
         "type": "\"string\""
        },
        {
         "metadata": "{}",
         "name": "Name",
         "type": "\"string\""
        },
        {
         "metadata": "{}",
         "name": "no_of_friends",
         "type": "\"long\""
        },
        {
         "metadata": "{}",
         "name": "fscores",
         "type": "\"double\""
        }
       ],
       "type": "table"
      }
     },
     "output_type": "display_data"
    }
   ],
   "source": [
    "from pyspark.sql.types import StructType, StructField, IntegerType, StringType\n",
    "from pyspark.sql.functions import col, count, sum\n",
    "# Join person_df with friend_df on PersonID\n",
    "joined_df = person_df.alias('p').join(friend_df.alias('f'), col('p.PersonID') == col('f.PersonID'))\n",
    "\n",
    "# Join the result with person_df again to get friend's details\n",
    "joined_df = joined_df.join(person_df.alias('p2'), col('f.FriendID') == col('p2.PersonID'))\n",
    "\n",
    "# Select the required columns\n",
    "cte_df = joined_df.select(\n",
    "    col('p.PersonID'),\n",
    "    col('p.Name'),\n",
    "    col('f.FriendID'),\n",
    "    col('p2.Name').alias('fname'),\n",
    "    col('p2.Score').alias('fscore')\n",
    ")\n",
    "\n",
    "# Perform the group by and aggregate operations\n",
    "result_df = cte_df.groupBy('PersonID', 'Name') \\\n",
    "    .agg(\n",
    "        count('*').alias('no_of_friends'),\n",
    "        sum('fscore').alias('fscores')\n",
    "    ) \\\n",
    "    .filter(col('fscores') > 100)\n",
    "\n",
    "# Show the result\n",
    "result_df.display()\n"
   ]
  },
  {
   "cell_type": "code",
   "execution_count": 0,
   "metadata": {
    "application/vnd.databricks.v1+cell": {
     "cellMetadata": {
      "byteLimit": 2048000,
      "rowLimit": 10000
     },
     "inputWidgets": {},
     "nuid": "0a4ed6dc-0610-467a-aa0d-2b3440e7b40f",
     "showTitle": false,
     "title": ""
    }
   },
   "outputs": [],
   "source": [
    "person_df.createOrReplaceTempView(\"person\")\n",
    "friend_df.createOrReplaceTempView(\"friend\")"
   ]
  },
  {
   "cell_type": "code",
   "execution_count": 0,
   "metadata": {
    "application/vnd.databricks.v1+cell": {
     "cellMetadata": {
      "byteLimit": 2048000,
      "implicitDf": true,
      "rowLimit": 10000
     },
     "inputWidgets": {},
     "nuid": "5b18eced-57d6-4ca7-a979-b4a010336883",
     "showTitle": false,
     "title": ""
    }
   },
   "outputs": [
    {
     "output_type": "display_data",
     "data": {
      "text/html": [
       "<style scoped>\n",
       "  .table-result-container {\n",
       "    max-height: 300px;\n",
       "    overflow: auto;\n",
       "  }\n",
       "  table, th, td {\n",
       "    border: 1px solid black;\n",
       "    border-collapse: collapse;\n",
       "  }\n",
       "  th, td {\n",
       "    padding: 5px;\n",
       "  }\n",
       "  th {\n",
       "    text-align: left;\n",
       "  }\n",
       "</style><div class='table-result-container'><table class='table-result'><thead style='background-color: white'><tr><th>personid</th><th>name</th><th>no_of_friends</th><th>fscores</th></tr></thead><tbody><tr><td>2</td><td>Bob</td><td>2</td><td>115.0</td></tr><tr><td>4</td><td>Tara</td><td>3</td><td>101.0</td></tr></tbody></table></div>"
      ]
     },
     "metadata": {
      "application/vnd.databricks.v1+output": {
       "addedWidgets": {},
       "aggData": [],
       "aggError": "",
       "aggOverflow": false,
       "aggSchema": [],
       "aggSeriesLimitReached": false,
       "aggType": "",
       "arguments": {},
       "columnCustomDisplayInfos": {},
       "data": [
        [
         "2",
         "Bob",
         2,
         115.0
        ],
        [
         "4",
         "Tara",
         3,
         101.0
        ]
       ],
       "datasetInfos": [],
       "dbfsResultPath": null,
       "isJsonSchema": true,
       "metadata": {},
       "overflow": false,
       "plotOptions": {
        "customPlotOptions": {},
        "displayType": "table",
        "pivotAggregation": null,
        "pivotColumns": null,
        "xColumns": null,
        "yColumns": null
       },
       "removedWidgets": [],
       "schema": [
        {
         "metadata": "{}",
         "name": "personid",
         "type": "\"string\""
        },
        {
         "metadata": "{}",
         "name": "name",
         "type": "\"string\""
        },
        {
         "metadata": "{}",
         "name": "no_of_friends",
         "type": "\"long\""
        },
        {
         "metadata": "{}",
         "name": "fscores",
         "type": "\"double\""
        }
       ],
       "type": "table"
      }
     },
     "output_type": "display_data"
    }
   ],
   "source": [
    "%sql\n",
    "with cte as(\n",
    "select p.*,f.FriendID,p2.Name as fname,p2.score as fscore from person p\n",
    "inner join \n",
    "friend f on f.personid = p.PersonID\n",
    "inner join person p2 on f.FriendID = p2.PersonID\n",
    "order by p.personid)\n",
    "select personid,name,count(*) as no_of_friends,sum(fscore) as fscores from cte group by personid,name\n",
    "having fscores>100"
   ]
  }
 ],
 "metadata": {
  "application/vnd.databricks.v1+notebook": {
   "dashboards": [],
   "environmentMetadata": null,
   "language": "python",
   "notebookMetadata": {
    "mostRecentlyExecutedCommandWithImplicitDF": {
     "commandId": 4086237900602925,
     "dataframes": [
      "_sqldf"
     ]
    },
    "pythonIndentUnit": 4
   },
   "notebookName": "Complex SQL 6 | Scenario based on join, group by and having clauses | SQL Interview Question",
   "widgets": {}
  }
 },
 "nbformat": 4,
 "nbformat_minor": 0
}
