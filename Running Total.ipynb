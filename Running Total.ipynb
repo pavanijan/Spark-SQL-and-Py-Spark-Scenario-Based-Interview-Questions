{
 "cells": [
  {
   "cell_type": "code",
   "execution_count": 0,
   "metadata": {
    "application/vnd.databricks.v1+cell": {
     "cellMetadata": {
      "byteLimit": 2048000,
      "rowLimit": 10000
     },
     "inputWidgets": {},
     "nuid": "6bcbdbef-83f1-40d8-a0ce-fedcab93ade5",
     "showTitle": false,
     "title": ""
    }
   },
   "outputs": [
    {
     "output_type": "display_data",
     "data": {
      "application/vnd.databricks.v1+bamboolib_hint": "{\"pd.DataFrames\": [], \"version\": \"0.0.1\"}",
      "text/plain": []
     },
     "metadata": {},
     "output_type": "display_data"
    },
    {
     "output_type": "stream",
     "name": "stdout",
     "output_type": "stream",
     "text": [
      "        Date  Sales  Running Total\n0 2024-01-01    100            100\n1 2024-01-02    200            300\n2 2024-01-03    150            450\n3 2024-01-04    250            700\n4 2024-01-05    300           1000\n"
     ]
    }
   ],
   "source": [
    "import pandas as pd\n",
    "# Sample dataset\n",
    "data = {\n",
    "    'Date': ['2024-01-01', '2024-01-02', '2024-01-03', '2024-01-04', '2024-01-05'],\n",
    "    'Sales': [100, 200, 150, 250, 300]\n",
    "}\n",
    "# Create DataFrame\n",
    "df = pd.DataFrame(data)\n",
    "# Convert 'Date' column to datetime type\n",
    "df['Date'] = pd.to_datetime(df['Date'])\n",
    "# Sort by 'Date' column (if not already sorted)\n",
    "df = df.sort_values('Date')\n",
    "# Calculate the running total (cumulative total)\n",
    "df['Running Total'] = df['Sales'].cumsum()\n",
    "# Print the DataFrame\n",
    "print(df)"
   ]
  },
  {
   "cell_type": "code",
   "execution_count": 0,
   "metadata": {
    "application/vnd.databricks.v1+cell": {
     "cellMetadata": {
      "byteLimit": 2048000,
      "rowLimit": 10000
     },
     "inputWidgets": {},
     "nuid": "d055be8b-0b24-4915-9351-46891851d19f",
     "showTitle": false,
     "title": ""
    }
   },
   "outputs": [
    {
     "output_type": "stream",
     "name": "stdout",
     "output_type": "stream",
     "text": [
      "        Date  Sales  Running Total\n0 2024-01-01    100          100.0\n1 2024-01-02    200          300.0\n2 2024-01-03    150          450.0\n3 2024-01-04    250          700.0\n4 2024-01-05    300         1000.0\n"
     ]
    }
   ],
   "source": [
    "import pandas as pd\n",
    "\n",
    "# Create a sample dataset\n",
    "data = {\n",
    "    'Date': ['2024-01-01', '2024-01-02', '2024-01-03', '2024-01-04', '2024-01-05'],\n",
    "    'Sales': [100, 200, 150, 250, 300]\n",
    "}\n",
    "\n",
    "df = pd.DataFrame(data)\n",
    "df['Date'] = pd.to_datetime(df['Date'])\n",
    "\n",
    "# Ensure the data is sorted by date\n",
    "df = df.sort_values('Date')\n",
    "\n",
    "# Calculate the running total using the expanding method and apply\n",
    "df['Running Total'] = df['Sales'].expanding().apply(lambda x: x.sum())\n",
    "\n",
    "print(df)\n"
   ]
  }
 ],
 "metadata": {
  "application/vnd.databricks.v1+notebook": {
   "dashboards": [],
   "environmentMetadata": null,
   "language": "python",
   "notebookMetadata": {
    "pythonIndentUnit": 4
   },
   "notebookName": "Running Total",
   "widgets": {}
  }
 },
 "nbformat": 4,
 "nbformat_minor": 0
}
