{
 "cells": [
  {
   "cell_type": "markdown",
   "metadata": {
    "application/vnd.databricks.v1+cell": {
     "cellMetadata": {},
     "inputWidgets": {},
     "nuid": "f995e108-5c73-46b7-94d6-451ea4b5c6d2",
     "showTitle": false,
     "title": ""
    }
   },
   "source": [
    "#Problem Statement\n",
    "You are given an integer array nums.\n",
    "\n",
    "In one move, you can choose one element of nums and change it to any value.\n",
    "\n",
    "Return the minimum difference between the largest and smallest value of nums after performing at most three moves.\n",
    "\n",
    "Example 1:\n",
    "\n",
    "Input: nums = [5,3,2,4]\n",
    "Output: 0\n",
    "Explanation: We can make at most 3 moves.\n",
    "In the first move, change 2 to 3. nums becomes [5,3,3,4].\n",
    "In the second move, change 4 to 3. nums becomes [5,3,3,3].\n",
    "In the third move, change 5 to 3. nums becomes [3,3,3,3].\n",
    "After performing 3 moves, the difference between the minimum and maximum is 3 - 3 = 0.\n",
    "Example 2:\n",
    "\n",
    "Input: nums = [1,5,0,10,14]\n",
    "Output: 1\n",
    "Explanation: We can make at most 3 moves.\n",
    "In the first move, change 5 to 0. nums becomes [1,0,0,10,14].\n",
    "In the second move, change 10 to 0. nums becomes [1,0,0,0,14].\n",
    "In the third move, change 14 to 1. nums becomes [1,0,0,0,1].\n",
    "After performing 3 moves, the difference between the minimum and maximum is 1 - 0 = 1.\n",
    "It can be shown that there is no way to make the difference 0 in 3 moves.\n",
    "Example 3:\n",
    "\n",
    "Input: nums = [3,100,20]\n",
    "Output: 0\n",
    "Explanation: We can make at most 3 moves.\n",
    "In the first move, change 100 to 7. nums becomes [3,7,20].\n",
    "In the second move, change 20 to 7. nums becomes [3,7,7].\n",
    "In the third move, change 3 to 7. nums becomes [7,7,7].\n",
    "After performing 3 moves, the difference between the minimum and maximum is 7 - 7 = 0."
   ]
  },
  {
   "cell_type": "code",
   "execution_count": 0,
   "metadata": {
    "application/vnd.databricks.v1+cell": {
     "cellMetadata": {
      "byteLimit": 2048000,
      "rowLimit": 10000
     },
     "inputWidgets": {},
     "nuid": "5768ec76-496b-4b6e-8909-b456d855b8a5",
     "showTitle": false,
     "title": ""
    }
   },
   "outputs": [
    {
     "output_type": "stream",
     "name": "stdout",
     "output_type": "stream",
     "text": [
      "1\n"
     ]
    }
   ],
   "source": [
    "class Solution:\n",
    "    def minDifference(self, nums):\n",
    "        n = len(nums)\n",
    "        if n <= 4:\n",
    "            return 0  # If there are 4 or fewer elements, we can change all of them to be the same value.\n",
    "        \n",
    "        nums.sort()\n",
    "        \n",
    "        diff1 = nums[n-4] - nums[0]\n",
    "        # 2. The two largest elements and one smallest element\n",
    "        diff2 = nums[n-3] - nums[1]\n",
    "        # 3. The one largest element and two smallest elements\n",
    "        diff3 = nums[n-2] - nums[2]\n",
    "        # 4. The three smallest elements\n",
    "        diff4 = nums[n-1] - nums[3]\n",
    "        \n",
    "        return min(diff1, diff2, diff3, diff4)\n",
    "\n",
    "# Example usage:\n",
    "nums = [1, 5, 6, 14, 15]\n",
    "solution = Solution()\n",
    "print(solution.minDifference(nums))  # Output: 1\n"
   ]
  }
 ],
 "metadata": {
  "application/vnd.databricks.v1+notebook": {
   "dashboards": [],
   "environmentMetadata": null,
   "language": "python",
   "notebookMetadata": {
    "pythonIndentUnit": 4
   },
   "notebookName": "1509. Minimum Difference Between Largest and Smallest Value in Three Moves",
   "widgets": {}
  }
 },
 "nbformat": 4,
 "nbformat_minor": 0
}
