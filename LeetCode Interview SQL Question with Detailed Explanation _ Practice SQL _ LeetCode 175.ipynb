{
 "cells": [
  {
   "cell_type": "markdown",
   "metadata": {
    "application/vnd.databricks.v1+cell": {
     "cellMetadata": {},
     "inputWidgets": {},
     "nuid": "f560d08a-e10d-4af4-acb7-0704cf8e607e",
     "showTitle": false,
     "title": ""
    }
   },
   "source": [
    "### Problem Statement\n",
    "Write a solution to report the first name, last name, city, and state of each person in the Person table. If the address of a personId is not present in the Address table, report null instead.\n",
    "\n",
    "Return the result table in any order."
   ]
  },
  {
   "cell_type": "code",
   "execution_count": 0,
   "metadata": {
    "application/vnd.databricks.v1+cell": {
     "cellMetadata": {
      "byteLimit": 2048000,
      "rowLimit": 10000
     },
     "inputWidgets": {},
     "nuid": "95d58a40-3385-4451-bd0c-22e25106b8e5",
     "showTitle": false,
     "title": ""
    }
   },
   "outputs": [
    {
     "output_type": "display_data",
     "data": {
      "text/html": [
       "<style scoped>\n",
       "  .table-result-container {\n",
       "    max-height: 300px;\n",
       "    overflow: auto;\n",
       "  }\n",
       "  table, th, td {\n",
       "    border: 1px solid black;\n",
       "    border-collapse: collapse;\n",
       "  }\n",
       "  th, td {\n",
       "    padding: 5px;\n",
       "  }\n",
       "  th {\n",
       "    text-align: left;\n",
       "  }\n",
       "</style><div class='table-result-container'><table class='table-result'><thead style='background-color: white'><tr><th>personId</th><th>lastName</th><th>firstName</th></tr></thead><tbody><tr><td>1</td><td>Doe</td><td>John</td></tr><tr><td>2</td><td>Smith</td><td>Jane</td></tr><tr><td>3</td><td>Johnson</td><td>Michael</td></tr></tbody></table></div>"
      ]
     },
     "metadata": {
      "application/vnd.databricks.v1+output": {
       "addedWidgets": {},
       "aggData": [],
       "aggError": "",
       "aggOverflow": false,
       "aggSchema": [],
       "aggSeriesLimitReached": false,
       "aggType": "",
       "arguments": {},
       "columnCustomDisplayInfos": {},
       "data": [
        [
         1,
         "Doe",
         "John"
        ],
        [
         2,
         "Smith",
         "Jane"
        ],
        [
         3,
         "Johnson",
         "Michael"
        ]
       ],
       "datasetInfos": [],
       "dbfsResultPath": null,
       "isJsonSchema": true,
       "metadata": {},
       "overflow": false,
       "plotOptions": {
        "customPlotOptions": {},
        "displayType": "table",
        "pivotAggregation": null,
        "pivotColumns": null,
        "xColumns": null,
        "yColumns": null
       },
       "removedWidgets": [],
       "schema": [
        {
         "metadata": "{}",
         "name": "personId",
         "type": "\"long\""
        },
        {
         "metadata": "{}",
         "name": "lastName",
         "type": "\"string\""
        },
        {
         "metadata": "{}",
         "name": "firstName",
         "type": "\"string\""
        }
       ],
       "type": "table"
      }
     },
     "output_type": "display_data"
    },
    {
     "output_type": "display_data",
     "data": {
      "text/html": [
       "<style scoped>\n",
       "  .table-result-container {\n",
       "    max-height: 300px;\n",
       "    overflow: auto;\n",
       "  }\n",
       "  table, th, td {\n",
       "    border: 1px solid black;\n",
       "    border-collapse: collapse;\n",
       "  }\n",
       "  th, td {\n",
       "    padding: 5px;\n",
       "  }\n",
       "  th {\n",
       "    text-align: left;\n",
       "  }\n",
       "</style><div class='table-result-container'><table class='table-result'><thead style='background-color: white'><tr><th>addressId</th><th>personId</th><th>city</th><th>state</th></tr></thead><tbody><tr><td>1</td><td>1</td><td>New York</td><td>NY</td></tr><tr><td>2</td><td>2</td><td>Los Angeles</td><td>CA</td></tr></tbody></table></div>"
      ]
     },
     "metadata": {
      "application/vnd.databricks.v1+output": {
       "addedWidgets": {},
       "aggData": [],
       "aggError": "",
       "aggOverflow": false,
       "aggSchema": [],
       "aggSeriesLimitReached": false,
       "aggType": "",
       "arguments": {},
       "columnCustomDisplayInfos": {},
       "data": [
        [
         1,
         1,
         "New York",
         "NY"
        ],
        [
         2,
         2,
         "Los Angeles",
         "CA"
        ]
       ],
       "datasetInfos": [],
       "dbfsResultPath": null,
       "isJsonSchema": true,
       "metadata": {},
       "overflow": false,
       "plotOptions": {
        "customPlotOptions": {},
        "displayType": "table",
        "pivotAggregation": null,
        "pivotColumns": null,
        "xColumns": null,
        "yColumns": null
       },
       "removedWidgets": [],
       "schema": [
        {
         "metadata": "{}",
         "name": "addressId",
         "type": "\"long\""
        },
        {
         "metadata": "{}",
         "name": "personId",
         "type": "\"long\""
        },
        {
         "metadata": "{}",
         "name": "city",
         "type": "\"string\""
        },
        {
         "metadata": "{}",
         "name": "state",
         "type": "\"string\""
        }
       ],
       "type": "table"
      }
     },
     "output_type": "display_data"
    }
   ],
   "source": [
    "from pyspark.sql import SparkSession\n",
    "\n",
    "# Assuming you already have a SparkSession\n",
    "spark = SparkSession.builder \\\n",
    "    .appName(\"PersonAddressJoin\") \\\n",
    "    .getOrCreate()\n",
    "\n",
    "# Sample data\n",
    "data_person = [\n",
    "    (1, 'Doe', 'John'),\n",
    "    (2, 'Smith', 'Jane'),\n",
    "    (3, 'Johnson', 'Michael')\n",
    "]\n",
    "\n",
    "data_address = [\n",
    "    (1, 1, 'New York', 'NY'),\n",
    "    (2, 2, 'Los Angeles', 'CA')\n",
    "]\n",
    "\n",
    "# Create DataFrames\n",
    "person_df = spark.createDataFrame(data_person, ['personId', 'lastName', 'firstName'])\n",
    "address_df = spark.createDataFrame(data_address, ['addressId', 'personId', 'city', 'state'])\n",
    "\n",
    "# Show the result\n",
    "person_df.display()\n",
    "address_df.display()\n"
   ]
  },
  {
   "cell_type": "code",
   "execution_count": 0,
   "metadata": {
    "application/vnd.databricks.v1+cell": {
     "cellMetadata": {
      "byteLimit": 2048000,
      "rowLimit": 10000
     },
     "inputWidgets": {},
     "nuid": "23374c46-bdad-46da-92c8-95e3ad2da0ae",
     "showTitle": false,
     "title": ""
    }
   },
   "outputs": [
    {
     "output_type": "display_data",
     "data": {
      "text/html": [
       "<style scoped>\n",
       "  .table-result-container {\n",
       "    max-height: 300px;\n",
       "    overflow: auto;\n",
       "  }\n",
       "  table, th, td {\n",
       "    border: 1px solid black;\n",
       "    border-collapse: collapse;\n",
       "  }\n",
       "  th, td {\n",
       "    padding: 5px;\n",
       "  }\n",
       "  th {\n",
       "    text-align: left;\n",
       "  }\n",
       "</style><div class='table-result-container'><table class='table-result'><thead style='background-color: white'><tr><th>firstName</th><th>lastName</th><th>city</th><th>state</th></tr></thead><tbody><tr><td>John</td><td>Doe</td><td>New York</td><td>NY</td></tr><tr><td>Jane</td><td>Smith</td><td>Los Angeles</td><td>CA</td></tr><tr><td>Michael</td><td>Johnson</td><td>null</td><td>null</td></tr></tbody></table></div>"
      ]
     },
     "metadata": {
      "application/vnd.databricks.v1+output": {
       "addedWidgets": {},
       "aggData": [],
       "aggError": "",
       "aggOverflow": false,
       "aggSchema": [],
       "aggSeriesLimitReached": false,
       "aggType": "",
       "arguments": {},
       "columnCustomDisplayInfos": {},
       "data": [
        [
         "John",
         "Doe",
         "New York",
         "NY"
        ],
        [
         "Jane",
         "Smith",
         "Los Angeles",
         "CA"
        ],
        [
         "Michael",
         "Johnson",
         null,
         null
        ]
       ],
       "datasetInfos": [],
       "dbfsResultPath": null,
       "isJsonSchema": true,
       "metadata": {},
       "overflow": false,
       "plotOptions": {
        "customPlotOptions": {},
        "displayType": "table",
        "pivotAggregation": null,
        "pivotColumns": null,
        "xColumns": null,
        "yColumns": null
       },
       "removedWidgets": [],
       "schema": [
        {
         "metadata": "{}",
         "name": "firstName",
         "type": "\"string\""
        },
        {
         "metadata": "{}",
         "name": "lastName",
         "type": "\"string\""
        },
        {
         "metadata": "{}",
         "name": "city",
         "type": "\"string\""
        },
        {
         "metadata": "{}",
         "name": "state",
         "type": "\"string\""
        }
       ],
       "type": "table"
      }
     },
     "output_type": "display_data"
    }
   ],
   "source": [
    "from pyspark.sql import SparkSession\n",
    "from pyspark.sql.functions import col\n",
    "\n",
    "# Perform left join to get the desired result\n",
    "result_df = person_df.join(address_df, person_df.personId == address_df.personId, how='left') \\\n",
    "                    .select(person_df.firstName, person_df.lastName, address_df.city, address_df.state)\n",
    "\n",
    "# Show the result\n",
    "result_df.display()\n"
   ]
  },
  {
   "cell_type": "code",
   "execution_count": 0,
   "metadata": {
    "application/vnd.databricks.v1+cell": {
     "cellMetadata": {
      "byteLimit": 2048000,
      "rowLimit": 10000
     },
     "inputWidgets": {},
     "nuid": "12f4dd2a-fd53-4b30-a628-1a856b80ef89",
     "showTitle": false,
     "title": ""
    }
   },
   "outputs": [],
   "source": [
    "# Register DataFrames as tables\n",
    "person_df.createOrReplaceTempView(\"Person\")\n",
    "address_df.createOrReplaceTempView(\"Address\")"
   ]
  },
  {
   "cell_type": "code",
   "execution_count": 0,
   "metadata": {
    "application/vnd.databricks.v1+cell": {
     "cellMetadata": {
      "byteLimit": 2048000,
      "implicitDf": true,
      "rowLimit": 10000
     },
     "inputWidgets": {},
     "nuid": "6b6d0e23-4cd8-4310-98fd-bfc69b958a65",
     "showTitle": false,
     "title": ""
    }
   },
   "outputs": [
    {
     "output_type": "display_data",
     "data": {
      "text/html": [
       "<style scoped>\n",
       "  .table-result-container {\n",
       "    max-height: 300px;\n",
       "    overflow: auto;\n",
       "  }\n",
       "  table, th, td {\n",
       "    border: 1px solid black;\n",
       "    border-collapse: collapse;\n",
       "  }\n",
       "  th, td {\n",
       "    padding: 5px;\n",
       "  }\n",
       "  th {\n",
       "    text-align: left;\n",
       "  }\n",
       "</style><div class='table-result-container'><table class='table-result'><thead style='background-color: white'><tr><th>firstName</th><th>lastName</th><th>city</th><th>state</th></tr></thead><tbody><tr><td>John</td><td>Doe</td><td>New York</td><td>NY</td></tr><tr><td>Jane</td><td>Smith</td><td>Los Angeles</td><td>CA</td></tr><tr><td>Michael</td><td>Johnson</td><td>null</td><td>null</td></tr></tbody></table></div>"
      ]
     },
     "metadata": {
      "application/vnd.databricks.v1+output": {
       "addedWidgets": {},
       "aggData": [],
       "aggError": "",
       "aggOverflow": false,
       "aggSchema": [],
       "aggSeriesLimitReached": false,
       "aggType": "",
       "arguments": {},
       "columnCustomDisplayInfos": {},
       "data": [
        [
         "John",
         "Doe",
         "New York",
         "NY"
        ],
        [
         "Jane",
         "Smith",
         "Los Angeles",
         "CA"
        ],
        [
         "Michael",
         "Johnson",
         null,
         null
        ]
       ],
       "datasetInfos": [],
       "dbfsResultPath": null,
       "isJsonSchema": true,
       "metadata": {},
       "overflow": false,
       "plotOptions": {
        "customPlotOptions": {},
        "displayType": "table",
        "pivotAggregation": null,
        "pivotColumns": null,
        "xColumns": null,
        "yColumns": null
       },
       "removedWidgets": [],
       "schema": [
        {
         "metadata": "{}",
         "name": "firstName",
         "type": "\"string\""
        },
        {
         "metadata": "{}",
         "name": "lastName",
         "type": "\"string\""
        },
        {
         "metadata": "{}",
         "name": "city",
         "type": "\"string\""
        },
        {
         "metadata": "{}",
         "name": "state",
         "type": "\"string\""
        }
       ],
       "type": "table"
      }
     },
     "output_type": "display_data"
    }
   ],
   "source": [
    "%sql\n",
    "SELECT p.firstName, p.lastName, a.city, a.state\n",
    "FROM person p\n",
    "LEFT JOIN Address a ON p.personId = a.personId;\n"
   ]
  },
  {
   "cell_type": "code",
   "execution_count": 0,
   "metadata": {
    "application/vnd.databricks.v1+cell": {
     "cellMetadata": {},
     "inputWidgets": {},
     "nuid": "8a090764-1656-4cca-8da0-072b5415a18c",
     "showTitle": false,
     "title": ""
    }
   },
   "outputs": [],
   "source": []
  }
 ],
 "metadata": {
  "application/vnd.databricks.v1+notebook": {
   "dashboards": [],
   "environmentMetadata": null,
   "language": "python",
   "notebookMetadata": {
    "mostRecentlyExecutedCommandWithImplicitDF": {
     "commandId": 93045329203512,
     "dataframes": [
      "_sqldf"
     ]
    },
    "pythonIndentUnit": 4
   },
   "notebookName": "LeetCode Interview SQL Question with Detailed Explanation | Practice SQL | LeetCode 175",
   "widgets": {}
  }
 },
 "nbformat": 4,
 "nbformat_minor": 0
}
