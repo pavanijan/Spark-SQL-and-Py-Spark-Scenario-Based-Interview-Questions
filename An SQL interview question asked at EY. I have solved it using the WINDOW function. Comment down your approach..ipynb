{
 "cells": [
  {
   "cell_type": "code",
   "execution_count": 0,
   "metadata": {
    "application/vnd.databricks.v1+cell": {
     "cellMetadata": {
      "byteLimit": 2048000,
      "rowLimit": 10000
     },
     "inputWidgets": {},
     "nuid": "b1751754-4b94-454d-9480-48c31ed967c1",
     "showTitle": false,
     "title": ""
    }
   },
   "outputs": [
    {
     "output_type": "display_data",
     "data": {
      "text/html": [
       "<style scoped>\n",
       "  .table-result-container {\n",
       "    max-height: 300px;\n",
       "    overflow: auto;\n",
       "  }\n",
       "  table, th, td {\n",
       "    border: 1px solid black;\n",
       "    border-collapse: collapse;\n",
       "  }\n",
       "  th, td {\n",
       "    padding: 5px;\n",
       "  }\n",
       "  th {\n",
       "    text-align: left;\n",
       "  }\n",
       "</style><div class='table-result-container'><table class='table-result'><thead style='background-color: white'><tr><th>ListingID</th><th>HomeID</th><th>Status</th><th>GroupID</th></tr></thead><tbody><tr><td>1</td><td>Home A</td><td>New Listing</td><td>1</td></tr><tr><td>2</td><td>Home A</td><td>Pending</td><td>1</td></tr><tr><td>3</td><td>Home A</td><td>Relisted</td><td>2</td></tr><tr><td>4</td><td>Home B</td><td>New Listing</td><td>3</td></tr><tr><td>5</td><td>Home B</td><td>Under Contract</td><td>3</td></tr><tr><td>6</td><td>Home B</td><td>Relisted</td><td>4</td></tr><tr><td>7</td><td>Home C</td><td>New Listing</td><td>5</td></tr><tr><td>8</td><td>Home C</td><td>Under Contract</td><td>5</td></tr><tr><td>9</td><td>Home C</td><td>Closed</td><td>5</td></tr></tbody></table></div>"
      ]
     },
     "metadata": {
      "application/vnd.databricks.v1+output": {
       "addedWidgets": {},
       "aggData": [],
       "aggError": "",
       "aggOverflow": false,
       "aggSchema": [],
       "aggSeriesLimitReached": false,
       "aggType": "",
       "arguments": {},
       "columnCustomDisplayInfos": {},
       "data": [
        [
         1,
         "Home A",
         "New Listing",
         1
        ],
        [
         2,
         "Home A",
         "Pending",
         1
        ],
        [
         3,
         "Home A",
         "Relisted",
         2
        ],
        [
         4,
         "Home B",
         "New Listing",
         3
        ],
        [
         5,
         "Home B",
         "Under Contract",
         3
        ],
        [
         6,
         "Home B",
         "Relisted",
         4
        ],
        [
         7,
         "Home C",
         "New Listing",
         5
        ],
        [
         8,
         "Home C",
         "Under Contract",
         5
        ],
        [
         9,
         "Home C",
         "Closed",
         5
        ]
       ],
       "datasetInfos": [],
       "dbfsResultPath": null,
       "isJsonSchema": true,
       "metadata": {},
       "overflow": false,
       "plotOptions": {
        "customPlotOptions": {},
        "displayType": "table",
        "pivotAggregation": null,
        "pivotColumns": null,
        "xColumns": null,
        "yColumns": null
       },
       "removedWidgets": [],
       "schema": [
        {
         "metadata": "{}",
         "name": "ListingID",
         "type": "\"long\""
        },
        {
         "metadata": "{}",
         "name": "HomeID",
         "type": "\"string\""
        },
        {
         "metadata": "{}",
         "name": "Status",
         "type": "\"string\""
        },
        {
         "metadata": "{}",
         "name": "GroupID",
         "type": "\"long\""
        }
       ],
       "type": "table"
      }
     },
     "output_type": "display_data"
    }
   ],
   "source": [
    "from pyspark.sql import SparkSession\n",
    "from pyspark.sql import functions as F\n",
    "from pyspark.sql.window import Window\n",
    "\n",
    "# Initialize Spark session\n",
    "spark = SparkSession.builder.appName(\"HomeListings\").getOrCreate()\n",
    "\n",
    "# Create the DataFrame\n",
    "data = [\n",
    "    (1, \"Home A\", \"New Listing\"),\n",
    "    (2, \"Home A\", \"Pending\"),\n",
    "    (3, \"Home A\", \"Relisted\"),\n",
    "    (4, \"Home B\", \"New Listing\"),\n",
    "    (5, \"Home B\", \"Under Contract\"),\n",
    "    (6, \"Home B\", \"Relisted\"),\n",
    "    (7, \"Home C\", \"New Listing\"),\n",
    "    (8, \"Home C\", \"Under Contract\"),\n",
    "    (9, \"Home C\", \"Closed\"),\n",
    "]\n",
    "\n",
    "columns = [\"ListingID\", \"HomeID\", \"Status\"]\n",
    "df = spark.createDataFrame(data, columns)\n",
    "\n",
    "# Define the window specification\n",
    "windowSpec = Window.orderBy(\"ListingID\").rowsBetween(\n",
    "    Window.unboundedPreceding, Window.currentRow\n",
    ")\n",
    "\n",
    "# Add the GroupID column\n",
    "df_with_groupid = df.withColumn(\n",
    "    \"GroupID\",\n",
    "    F.sum(F.when(F.col(\"Status\").isin(\"New Listing\", \"Relisted\"), 1).otherwise(0)).over(\n",
    "        windowSpec\n",
    "    ),\n",
    ")\n",
    "\n",
    "# Show the result\n",
    "df_with_groupid.display()"
   ]
  },
  {
   "cell_type": "code",
   "execution_count": 0,
   "metadata": {
    "application/vnd.databricks.v1+cell": {
     "cellMetadata": {
      "byteLimit": 2048000,
      "implicitDf": true,
      "rowLimit": 10000
     },
     "inputWidgets": {},
     "nuid": "a76983c0-319d-4545-be5d-b81b8ab79a6e",
     "showTitle": false,
     "title": ""
    }
   },
   "outputs": [
    {
     "output_type": "display_data",
     "data": {
      "text/html": [
       "<style scoped>\n",
       "  .table-result-container {\n",
       "    max-height: 300px;\n",
       "    overflow: auto;\n",
       "  }\n",
       "  table, th, td {\n",
       "    border: 1px solid black;\n",
       "    border-collapse: collapse;\n",
       "  }\n",
       "  th, td {\n",
       "    padding: 5px;\n",
       "  }\n",
       "  th {\n",
       "    text-align: left;\n",
       "  }\n",
       "</style><div class='table-result-container'><table class='table-result'><thead style='background-color: white'><tr><th>ListingID</th><th>HomeID</th><th>Status</th><th>GroupID</th></tr></thead><tbody><tr><td>1</td><td>Home A</td><td>New Listing</td><td>1</td></tr><tr><td>2</td><td>Home A</td><td>Pending</td><td>1</td></tr><tr><td>3</td><td>Home A</td><td>Relisted</td><td>2</td></tr><tr><td>4</td><td>Home B</td><td>New Listing</td><td>3</td></tr><tr><td>5</td><td>Home B</td><td>Under Contract</td><td>3</td></tr><tr><td>6</td><td>Home B</td><td>Relisted</td><td>4</td></tr><tr><td>7</td><td>Home C</td><td>New Listing</td><td>5</td></tr><tr><td>8</td><td>Home C</td><td>Under Contract</td><td>5</td></tr><tr><td>9</td><td>Home C</td><td>Closed</td><td>5</td></tr></tbody></table></div>"
      ]
     },
     "metadata": {
      "application/vnd.databricks.v1+output": {
       "addedWidgets": {},
       "aggData": [],
       "aggError": "",
       "aggOverflow": false,
       "aggSchema": [],
       "aggSeriesLimitReached": false,
       "aggType": "",
       "arguments": {},
       "columnCustomDisplayInfos": {},
       "data": [
        [
         1,
         "Home A",
         "New Listing",
         1
        ],
        [
         2,
         "Home A",
         "Pending",
         1
        ],
        [
         3,
         "Home A",
         "Relisted",
         2
        ],
        [
         4,
         "Home B",
         "New Listing",
         3
        ],
        [
         5,
         "Home B",
         "Under Contract",
         3
        ],
        [
         6,
         "Home B",
         "Relisted",
         4
        ],
        [
         7,
         "Home C",
         "New Listing",
         5
        ],
        [
         8,
         "Home C",
         "Under Contract",
         5
        ],
        [
         9,
         "Home C",
         "Closed",
         5
        ]
       ],
       "datasetInfos": [],
       "dbfsResultPath": null,
       "isJsonSchema": true,
       "metadata": {},
       "overflow": false,
       "plotOptions": {
        "customPlotOptions": {},
        "displayType": "table",
        "pivotAggregation": null,
        "pivotColumns": null,
        "xColumns": null,
        "yColumns": null
       },
       "removedWidgets": [],
       "schema": [
        {
         "metadata": "{}",
         "name": "ListingID",
         "type": "\"long\""
        },
        {
         "metadata": "{}",
         "name": "HomeID",
         "type": "\"string\""
        },
        {
         "metadata": "{}",
         "name": "Status",
         "type": "\"string\""
        },
        {
         "metadata": "{}",
         "name": "GroupID",
         "type": "\"long\""
        }
       ],
       "type": "table"
      }
     },
     "output_type": "display_data"
    }
   ],
   "source": [
    "%sql\n",
    "SELECT\n",
    "  *,\n",
    "  SUM(\n",
    "    CASE\n",
    "      WHEN Status IN ('New Listing', 'Relisted') THEN 1\n",
    "      ELSE 0\n",
    "    END\n",
    "  ) OVER(\n",
    "    ORDER BY\n",
    "      ListingID\n",
    "  ) AS GroupID\n",
    "FROM\n",
    "  HomeListings;"
   ]
  }
 ],
 "metadata": {
  "application/vnd.databricks.v1+notebook": {
   "dashboards": [],
   "environmentMetadata": null,
   "language": "python",
   "notebookMetadata": {
    "mostRecentlyExecutedCommandWithImplicitDF": {
     "commandId": 2212044957642683,
     "dataframes": [
      "_sqldf"
     ]
    },
    "pythonIndentUnit": 4
   },
   "notebookName": "An SQL interview question asked at EY. I have solved it using the WINDOW function. Comment down your approach.",
   "widgets": {}
  }
 },
 "nbformat": 4,
 "nbformat_minor": 0
}
