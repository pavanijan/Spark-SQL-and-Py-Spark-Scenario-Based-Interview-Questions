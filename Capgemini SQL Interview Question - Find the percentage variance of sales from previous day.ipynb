{
 "cells": [
  {
   "cell_type": "code",
   "execution_count": 0,
   "metadata": {
    "application/vnd.databricks.v1+cell": {
     "cellMetadata": {
      "byteLimit": 2048000,
      "rowLimit": 10000
     },
     "inputWidgets": {},
     "nuid": "1e13e6aa-0000-4c3c-8dd0-ab97cd7ab708",
     "showTitle": false,
     "title": ""
    }
   },
   "outputs": [
    {
     "output_type": "display_data",
     "data": {
      "text/html": [
       "<style scoped>\n",
       "  .table-result-container {\n",
       "    max-height: 300px;\n",
       "    overflow: auto;\n",
       "  }\n",
       "  table, th, td {\n",
       "    border: 1px solid black;\n",
       "    border-collapse: collapse;\n",
       "  }\n",
       "  th, td {\n",
       "    padding: 5px;\n",
       "  }\n",
       "  th {\n",
       "    text-align: left;\n",
       "  }\n",
       "</style><div class='table-result-container'><table class='table-result'><thead style='background-color: white'><tr><th>dt</th><th>sales</th></tr></thead><tbody><tr><td>2023-10-03</td><td>10</td></tr><tr><td>2023-10-04</td><td>20</td></tr><tr><td>2023-10-05</td><td>60</td></tr><tr><td>2023-10-06</td><td>50</td></tr><tr><td>2023-10-07</td><td>10</td></tr></tbody></table></div>"
      ]
     },
     "metadata": {
      "application/vnd.databricks.v1+output": {
       "addedWidgets": {},
       "aggData": [],
       "aggError": "",
       "aggOverflow": false,
       "aggSchema": [],
       "aggSeriesLimitReached": false,
       "aggType": "",
       "arguments": {},
       "columnCustomDisplayInfos": {},
       "data": [
        [
         "2023-10-03",
         10
        ],
        [
         "2023-10-04",
         20
        ],
        [
         "2023-10-05",
         60
        ],
        [
         "2023-10-06",
         50
        ],
        [
         "2023-10-07",
         10
        ]
       ],
       "datasetInfos": [],
       "dbfsResultPath": null,
       "isJsonSchema": true,
       "metadata": {},
       "overflow": false,
       "plotOptions": {
        "customPlotOptions": {},
        "displayType": "table",
        "pivotAggregation": null,
        "pivotColumns": null,
        "xColumns": null,
        "yColumns": null
       },
       "removedWidgets": [],
       "schema": [
        {
         "metadata": "{}",
         "name": "dt",
         "type": "\"date\""
        },
        {
         "metadata": "{}",
         "name": "sales",
         "type": "\"integer\""
        }
       ],
       "type": "table"
      }
     },
     "output_type": "display_data"
    }
   ],
   "source": [
    "from pyspark.sql import SparkSession\n",
    "from pyspark.sql.types import StructType, StructField, DateType, IntegerType\n",
    "from datetime import datetime\n",
    "from pyspark.sql.window import Window\n",
    "from pyspark.sql.functions import col, lag, expr, when\n",
    "\n",
    "# Initialize Spark session\n",
    "spark = SparkSession.builder \\\n",
    "    .appName(\"Create salesvar_tbl Table\") \\\n",
    "    .getOrCreate()\n",
    "\n",
    "# Define the schema for the salesvar_tbl table\n",
    "schema = StructType([\n",
    "    StructField(\"dt\", DateType(), True),\n",
    "    StructField(\"sales\", IntegerType(), True)\n",
    "])\n",
    "\n",
    "# Insert records into salesvar_tbl\n",
    "data = [\n",
    "    (datetime.strptime('2023-10-03', '%Y-%m-%d'), 10),\n",
    "    (datetime.strptime('2023-10-04', '%Y-%m-%d'), 20),\n",
    "    (datetime.strptime('2023-10-05', '%Y-%m-%d'), 60),\n",
    "    (datetime.strptime('2023-10-06', '%Y-%m-%d'), 50),\n",
    "    (datetime.strptime('2023-10-07', '%Y-%m-%d'), 10)\n",
    "]\n",
    "\n",
    "# Create a DataFrame from the data and schema\n",
    "df = spark.createDataFrame(data, schema)\n",
    "\n",
    "# Show the DataFrame contents\n",
    "df.display()\n"
   ]
  },
  {
   "cell_type": "code",
   "execution_count": 0,
   "metadata": {
    "application/vnd.databricks.v1+cell": {
     "cellMetadata": {
      "byteLimit": 2048000,
      "rowLimit": 10000
     },
     "inputWidgets": {},
     "nuid": "77203e52-908b-4c9e-bf32-45f7ca01aabb",
     "showTitle": false,
     "title": ""
    }
   },
   "outputs": [
    {
     "output_type": "display_data",
     "data": {
      "text/html": [
       "<style scoped>\n",
       "  .table-result-container {\n",
       "    max-height: 300px;\n",
       "    overflow: auto;\n",
       "  }\n",
       "  table, th, td {\n",
       "    border: 1px solid black;\n",
       "    border-collapse: collapse;\n",
       "  }\n",
       "  th, td {\n",
       "    padding: 5px;\n",
       "  }\n",
       "  th {\n",
       "    text-align: left;\n",
       "  }\n",
       "</style><div class='table-result-container'><table class='table-result'><thead style='background-color: white'><tr><th>dt</th><th>sales</th></tr></thead><tbody><tr><td>2023-10-03</td><td>10</td></tr><tr><td>2023-10-04</td><td>20</td></tr><tr><td>2023-10-05</td><td>60</td></tr><tr><td>2023-10-06</td><td>50</td></tr><tr><td>2023-10-07</td><td>10</td></tr></tbody></table></div>"
      ]
     },
     "metadata": {
      "application/vnd.databricks.v1+output": {
       "addedWidgets": {},
       "aggData": [],
       "aggError": "",
       "aggOverflow": false,
       "aggSchema": [],
       "aggSeriesLimitReached": false,
       "aggType": "",
       "arguments": {},
       "columnCustomDisplayInfos": {},
       "data": [
        [
         "2023-10-03",
         10
        ],
        [
         "2023-10-04",
         20
        ],
        [
         "2023-10-05",
         60
        ],
        [
         "2023-10-06",
         50
        ],
        [
         "2023-10-07",
         10
        ]
       ],
       "datasetInfos": [],
       "dbfsResultPath": null,
       "isJsonSchema": true,
       "metadata": {},
       "overflow": false,
       "plotOptions": {
        "customPlotOptions": {},
        "displayType": "table",
        "pivotAggregation": null,
        "pivotColumns": null,
        "xColumns": null,
        "yColumns": null
       },
       "removedWidgets": [],
       "schema": [
        {
         "metadata": "{}",
         "name": "dt",
         "type": "\"date\""
        },
        {
         "metadata": "{}",
         "name": "sales",
         "type": "\"integer\""
        }
       ],
       "type": "table"
      }
     },
     "output_type": "display_data"
    }
   ],
   "source": [
    "# Optionally, register the DataFrame as a temporary view to run SQL queries\n",
    "df.createOrReplaceTempView(\"salesvar_tbl\")\n",
    "\n",
    "# Example SQL query (optional)\n",
    "spark.sql(\"SELECT * FROM salesvar_tbl\").display()"
   ]
  },
  {
   "cell_type": "code",
   "execution_count": 0,
   "metadata": {
    "application/vnd.databricks.v1+cell": {
     "cellMetadata": {
      "byteLimit": 2048000,
      "rowLimit": 10000
     },
     "inputWidgets": {},
     "nuid": "cd846627-5002-44e8-972b-92d3d19d20fd",
     "showTitle": false,
     "title": ""
    }
   },
   "outputs": [
    {
     "output_type": "stream",
     "name": "stdout",
     "output_type": "stream",
     "text": [
      "+----------+-----+-----+\n|        dt|sales| %var|\n+----------+-----+-----+\n|2023-10-03|   10| null|\n|2023-10-04|   20|100.0|\n|2023-10-05|   60|200.0|\n+----------+-----+-----+\n\n"
     ]
    }
   ],
   "source": [
    "window_spec = Window.orderBy(\"dt\")\n",
    "\n",
    "# Create CTE by calculating previous sales using lag function\n",
    "cte = df.withColumn(\"prev_sales\", lag(\"sales\", 1, 0).over(window_spec))\n",
    "\n",
    "# Calculate percentage variance and filter rows where sales > prev_sales\n",
    "result = cte.withColumn(\n",
    "    \"%var\",\n",
    "    when(\n",
    "        col(\"prev_sales\") != 0,\n",
    "        ((col(\"sales\") - col(\"prev_sales\")) / col(\"prev_sales\")) * 100,\n",
    "    ),\n",
    ").filter(col(\"sales\") > col(\"prev_sales\"))\n",
    "\n",
    "# Show the result\n",
    "result.select(\"dt\", \"sales\", \"%var\").show()"
   ]
  },
  {
   "cell_type": "code",
   "execution_count": 0,
   "metadata": {
    "application/vnd.databricks.v1+cell": {
     "cellMetadata": {
      "byteLimit": 2048000,
      "implicitDf": true,
      "rowLimit": 10000
     },
     "inputWidgets": {},
     "nuid": "cea1b354-e287-40a1-afd4-b420590176f3",
     "showTitle": false,
     "title": ""
    }
   },
   "outputs": [
    {
     "output_type": "display_data",
     "data": {
      "text/html": [
       "<style scoped>\n",
       "  .table-result-container {\n",
       "    max-height: 300px;\n",
       "    overflow: auto;\n",
       "  }\n",
       "  table, th, td {\n",
       "    border: 1px solid black;\n",
       "    border-collapse: collapse;\n",
       "  }\n",
       "  th, td {\n",
       "    padding: 5px;\n",
       "  }\n",
       "  th {\n",
       "    text-align: left;\n",
       "  }\n",
       "</style><div class='table-result-container'><table class='table-result'><thead style='background-color: white'><tr><th>dt</th><th>sales</th><th>%var</th></tr></thead><tbody><tr><td>2023-10-03</td><td>10</td><td>null</td></tr><tr><td>2023-10-04</td><td>20</td><td>100.0</td></tr><tr><td>2023-10-05</td><td>60</td><td>200.0</td></tr></tbody></table></div>"
      ]
     },
     "metadata": {
      "application/vnd.databricks.v1+output": {
       "addedWidgets": {},
       "aggData": [],
       "aggError": "",
       "aggOverflow": false,
       "aggSchema": [],
       "aggSeriesLimitReached": false,
       "aggType": "",
       "arguments": {},
       "columnCustomDisplayInfos": {},
       "data": [
        [
         "2023-10-03",
         10,
         null
        ],
        [
         "2023-10-04",
         20,
         100.0
        ],
        [
         "2023-10-05",
         60,
         200.0
        ]
       ],
       "datasetInfos": [],
       "dbfsResultPath": null,
       "isJsonSchema": true,
       "metadata": {},
       "overflow": false,
       "plotOptions": {
        "customPlotOptions": {},
        "displayType": "table",
        "pivotAggregation": null,
        "pivotColumns": null,
        "xColumns": null,
        "yColumns": null
       },
       "removedWidgets": [],
       "schema": [
        {
         "metadata": "{}",
         "name": "dt",
         "type": "\"date\""
        },
        {
         "metadata": "{}",
         "name": "sales",
         "type": "\"integer\""
        },
        {
         "metadata": "{}",
         "name": "%var",
         "type": "\"double\""
        }
       ],
       "type": "table"
      }
     },
     "output_type": "display_data"
    }
   ],
   "source": [
    "query = \"\"\"\n",
    "WITH cte AS (\n",
    "    SELECT \n",
    "        dt, \n",
    "        sales,\n",
    "        LAG(sales, 1, 0) OVER (ORDER BY dt) AS prev_sales\n",
    "    FROM salesvar_tbl\n",
    ")\n",
    "SELECT \n",
    "    dt, \n",
    "    sales, \n",
    "    (CASE WHEN prev_sales != 0 THEN ((sales - prev_sales) / prev_sales) * 100 ELSE NULL END) AS `%var`\n",
    "FROM cte\n",
    "WHERE sales > prev_sales\n",
    "\"\"\"\n",
    "\n",
    "# Execute the query and show the result\n",
    "result = spark.sql(query)\n",
    "result.display()"
   ]
  }
 ],
 "metadata": {
  "application/vnd.databricks.v1+notebook": {
   "dashboards": [],
   "environmentMetadata": null,
   "language": "python",
   "notebookMetadata": {
    "mostRecentlyExecutedCommandWithImplicitDF": {
     "commandId": -1,
     "dataframes": [
      "_sqldf"
     ]
    },
    "pythonIndentUnit": 4
   },
   "notebookName": "Capgemini SQL Interview Question - Find the percentage variance of sales from previous day",
   "widgets": {}
  }
 },
 "nbformat": 4,
 "nbformat_minor": 0
}
